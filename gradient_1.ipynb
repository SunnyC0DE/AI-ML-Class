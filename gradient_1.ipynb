{
  "nbformat": 4,
  "nbformat_minor": 0,
  "metadata": {
    "colab": {
      "provenance": []
    },
    "kernelspec": {
      "name": "python3",
      "display_name": "Python 3"
    },
    "language_info": {
      "name": "python"
    }
  },
  "cells": [
    {
      "cell_type": "markdown",
      "source": [
        "# Gradient Desent"
      ],
      "metadata": {
        "id": "EtVzYmizhD95"
      }
    },
    {
      "cell_type": "code",
      "execution_count": null,
      "metadata": {
        "id": "NTEchFoYg7Dx"
      },
      "outputs": [],
      "source": [
        "# yi = mi +b\n",
        "# l = { (yi - ())\n",
        "# y = learning rate\n",
        "#    # new m = oldm - al* dm\n",
        "#     #   dem = df * x\n",
        "#     #   df = y - ycap\n",
        "#     #   ycap = m * xi + b\n",
        "#     # b = b - al * db(slope)\n",
        "#     # db loss = sum(y - ycap)**2\n",
        "\n",
        "\n",
        "# #total loss = 2 - sum(old_m - al(slope)) -> total loss = 2 -"
      ]
    },
    {
      "cell_type": "code",
      "source": [
        "from sklearn.datasets import make_regression\n",
        "import numpy as np\n",
        "from sklearn.model_selection import train_test_split\n",
        "from sklearn.linear_model import LinearRegression"
      ],
      "metadata": {
        "id": "5E-JRQiiuR1y"
      },
      "execution_count": null,
      "outputs": []
    },
    {
      "cell_type": "code",
      "source": [
        "x, y  = make_regression(n_features=1, n_samples=4, n_informative=1, n_targets=1, noise=80, random_state=13)"
      ],
      "metadata": {
        "id": "cpyaJIhHuaVG"
      },
      "execution_count": null,
      "outputs": []
    },
    {
      "cell_type": "code",
      "source": [
        "import matplotlib.pyplot as plt\n",
        "plt.scatter(x,y)"
      ],
      "metadata": {
        "colab": {
          "base_uri": "https://localhost:8080/",
          "height": 447
        },
        "id": "yjEaTn9GvDO9",
        "outputId": "38ab7243-4711-4409-e9b5-8caca1ae9529"
      },
      "execution_count": null,
      "outputs": [
        {
          "output_type": "execute_result",
          "data": {
            "text/plain": [
              "<matplotlib.collections.PathCollection at 0x7fe7681e7f10>"
            ]
          },
          "metadata": {},
          "execution_count": 15
        },
        {
          "output_type": "display_data",
          "data": {
            "text/plain": [
              "<Figure size 640x480 with 1 Axes>"
            ],
            "image/png": "[encoded data removed]"
          },
          "metadata": {}
        }
      ]
    },
    {
      "cell_type": "code",
      "source": [
        "x_train, x_test, y_train, y_test = train_test_split(x,y, test_size=0.2)"
      ],
      "metadata": {
        "id": "d01O4N0KxHWl"
      },
      "execution_count": null,
      "outputs": []
    },
    {
      "cell_type": "code",
      "source": [
        "from sklearn.linear_model import LinearRegression\n",
        "lr = LinearRegression()\n",
        "x_fit = lr.fit(x_train, y_train)"
      ],
      "metadata": {
        "id": "o9F1whNuvH52"
      },
      "execution_count": null,
      "outputs": []
    },
    {
      "cell_type": "code",
      "source": [
        "y_pred = x_fit.predict(x_test)\n",
        "y_pred"
      ],
      "metadata": {
        "colab": {
          "base_uri": "https://localhost:8080/"
        },
        "id": "1j3iLv9KxFZd",
        "outputId": "eda55d13-d54e-439b-f513-062a42845d5d"
      },
      "execution_count": null,
      "outputs": [
        {
          "output_type": "execute_result",
          "data": {
            "text/plain": [
              "array([85.39180441])"
            ]
          },
          "metadata": {},
          "execution_count": 18
        }
      ]
    },
    {
      "cell_type": "code",
      "source": [
        "lr.coef_\n"
      ],
      "metadata": {
        "colab": {
          "base_uri": "https://localhost:8080/"
        },
        "id": "ZeO-ieMq1bax",
        "outputId": "1da93d1b-2316-4a3d-d390-29540574d37b"
      },
      "execution_count": null,
      "outputs": [
        {
          "output_type": "execute_result",
          "data": {
            "text/plain": [
              "array([97.47659341])"
            ]
          },
          "metadata": {},
          "execution_count": 19
        }
      ]
    },
    {
      "cell_type": "code",
      "source": [
        "lr.intercept_"
      ],
      "metadata": {
        "colab": {
          "base_uri": "https://localhost:8080/"
        },
        "id": "YZavupVw1fbW",
        "outputId": "f0f0c837-be35-44ae-fbd7-b0e2e40ab0b6"
      },
      "execution_count": null,
      "outputs": [
        {
          "output_type": "execute_result",
          "data": {
            "text/plain": [
              "41.350676770551445"
            ]
          },
          "metadata": {},
          "execution_count": 20
        }
      ]
    },
    {
      "cell_type": "code",
      "source": [
        "class Lr:\n",
        "  def __init__(self):\n",
        "    self.m = 100\n",
        "    self.b = 120\n",
        "    self.al = 0.1\n",
        "\n",
        "\n",
        "  def find(self, x,y, epoch):\n",
        "    self.x = np.array(x)\n",
        "    self.y = np.array(y)\n",
        "    for i in range(epoch):\n",
        "      ycap = np.sum(self.m * self.x + self.b)\n",
        "      self.m =2 - np.sum(self.m - self.al * ycap)\n",
        "      print(self.m)\n",
        "      self.b = 2 - np.sum(self.b - (self.al * (self.m * self.x + self.b)))\n",
        "\n",
        "      print(self.b)\n"
      ],
      "metadata": {
        "id": "6j4R2Q9TyWrh"
      },
      "execution_count": null,
      "outputs": []
    },
    {
      "cell_type": "code",
      "source": [
        "r = Lr()"
      ],
      "metadata": {
        "id": "ekhIQzDx2RdY"
      },
      "execution_count": null,
      "outputs": []
    },
    {
      "cell_type": "code",
      "source": [
        "r.find([1,2,3,4],[1,2,3,4],6)"
      ],
      "metadata": {
        "colab": {
          "base_uri": "https://localhost:8080/"
        },
        "id": "-rdf4HuxTves",
        "outputId": "caef2a8a-b376-4e55-d437-372487df3736"
      },
      "execution_count": null,
      "outputs": [
        {
          "output_type": "stream",
          "name": "stdout",
          "text": [
            "50.0\n",
            "-380.0\n",
            "-150.0\n",
            "1220.0\n",
            "490.0\n",
            "-3900.0\n",
            "-1558.0\n",
            "12484.0\n",
            "4995.6\n",
            "-39944.8\n",
            "-15975.920000000002\n",
            "127827.36\n"
          ]
        }
      ]
    },
    {
      "cell_type": "code",
      "source": [
        "from sklearn.pipeline import Pipeline"
      ],
      "metadata": {
        "id": "eD2Ssk8s2ajz"
      },
      "execution_count": null,
      "outputs": []
    },
    {
      "cell_type": "code",
      "source": [
        "pipeline = Pipeline()\n",
        "pipeline = ([('t1',lr),\n",
        "             ('t2',r)])"
      ],
      "metadata": {
        "colab": {
          "base_uri": "https://localhost:8080/",
          "height": 176
        },
        "id": "b7zmC7NG2bNu",
        "outputId": "e475e65a-a66e-4e89-fcf3-ecd7e58785b4"
      },
      "execution_count": null,
      "outputs": [
        {
          "output_type": "error",
          "ename": "TypeError",
          "evalue": "Pipeline.__init__() missing 1 required positional argument: 'steps'",
          "traceback": [
            "\u001b[0;31m---------------------------------------------------------------------------\u001b[0m",
            "\u001b[0;31mTypeError\u001b[0m                                 Traceback (most recent call last)",
            "\u001b[0;32m<ipython-input-21-55a77f22a168>\u001b[0m in \u001b[0;36m<cell line: 0>\u001b[0;34m()\u001b[0m\n\u001b[0;32m----> 1\u001b[0;31m \u001b[0mpipeline\u001b[0m \u001b[0;34m=\u001b[0m \u001b[0mPipeline\u001b[0m\u001b[0;34m(\u001b[0m\u001b[0;34m)\u001b[0m\u001b[0;34m\u001b[0m\u001b[0;34m\u001b[0m\u001b[0m\n\u001b[0m\u001b[1;32m      2\u001b[0m pipeline = ([('t1',lr),\n\u001b[1;32m      3\u001b[0m              ('t2',r)])\n",
            "\u001b[0;31mTypeError\u001b[0m: Pipeline.__init__() missing 1 required positional argument: 'steps'"
          ]
        }
      ]
    },
    {
      "cell_type": "code",
      "source": [],
      "metadata": {
        "id": "Jv9iZ2Bg3yOk"
      },
      "execution_count": null,
      "outputs": []
    }
  ]
}